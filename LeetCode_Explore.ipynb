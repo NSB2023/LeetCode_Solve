{
  "nbformat": 4,
  "nbformat_minor": 0,
  "metadata": {
    "colab": {
      "provenance": [],
      "authorship_tag": "ABX9TyMrMgRA3S16V41lZgVucAsn",
      "include_colab_link": true
    },
    "kernelspec": {
      "name": "python3",
      "display_name": "Python 3"
    },
    "language_info": {
      "name": "python"
    }
  },
  "cells": [
    {
      "cell_type": "markdown",
      "metadata": {
        "id": "view-in-github",
        "colab_type": "text"
      },
      "source": [
        "<a href=\"https://colab.research.google.com/github/NSB2023/LeetCode_Solve/blob/main/LeetCode_Explore.ipynb\" target=\"_parent\"><img src=\"https://colab.research.google.com/assets/colab-badge.svg\" alt=\"Open In Colab\"/></a>"
      ]
    },
    {
      "cell_type": "code",
      "execution_count": null,
      "metadata": {
        "colab": {
          "base_uri": "https://localhost:8080/"
        },
        "id": "6P2NkvYNg9G6",
        "outputId": "c5f94f90-9748-4a03-dda8-47e6e2095837"
      },
      "outputs": [
        {
          "output_type": "stream",
          "name": "stdout",
          "text": [
            "True\n"
          ]
        }
      ],
      "source": [
        "#217\n",
        "'''\n",
        "Question: Contains Duplicate\n",
        "Given an integer array nums, return true if any value appears at least twice in\n",
        "the array, and return false if every element is distinct.\n",
        "'''\n",
        "\n",
        "class Solution(object):\n",
        "    def containsDuplicate(self, nums):\n",
        "        seen = set()\n",
        "        for num in nums:\n",
        "            if num in seen:\n",
        "                return True\n",
        "            seen.add(num)\n",
        "        return False\n",
        "s = Solution()\n",
        "print(s.containsDuplicate([1, 2, 2, 1]))"
      ]
    },
    {
      "cell_type": "code",
      "source": [
        "#242\n",
        "'''\n",
        "valid anagram problem solv:\n",
        "Given two strings s and t, return true if t is an anagram of s, and false otherwise.\n",
        "'''\n",
        "class solution:\n",
        "  def isAnagram(self,s,t):\n",
        "    d1={}\n",
        "    d2={}\n",
        "\n",
        "    for i in s:\n",
        "      d1[i]=d1.get(i,0) +1\n",
        "    for j in t:\n",
        "      d2[j]=d2.get(j,0) +1\n",
        "\n",
        "    return d1==d2\n",
        "\n",
        "solution = solution()\n",
        "print(solution.isAnagram('cat','rat'))\n",
        "print(solution.isAnagram('cat','act'))\n",
        "\n"
      ],
      "metadata": {
        "id": "iVZWpHVS66ub",
        "colab": {
          "base_uri": "https://localhost:8080/"
        },
        "outputId": "1a0dba72-0187-4ef0-a966-025a26d7f28f"
      },
      "execution_count": null,
      "outputs": [
        {
          "output_type": "stream",
          "name": "stdout",
          "text": [
            "False\n",
            "True\n"
          ]
        }
      ]
    },
    {
      "cell_type": "code",
      "source": [],
      "metadata": {
        "id": "nrOnmDDNkEuy"
      },
      "execution_count": null,
      "outputs": []
    }
  ]
}