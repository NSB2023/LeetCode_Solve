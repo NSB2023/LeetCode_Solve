{
  "nbformat": 4,
  "nbformat_minor": 0,
  "metadata": {
    "colab": {
      "provenance": [],
      "authorship_tag": "ABX9TyMK8U486Zhth/yWgVq4S92q",
      "include_colab_link": true
    },
    "kernelspec": {
      "name": "python3",
      "display_name": "Python 3"
    },
    "language_info": {
      "name": "python"
    }
  },
  "cells": [
    {
      "cell_type": "markdown",
      "metadata": {
        "id": "view-in-github",
        "colab_type": "text"
      },
      "source": [
        "<a href=\"https://colab.research.google.com/github/NSB2023/LeetCode_Solve/blob/main/LeetCode_Explore.ipynb\" target=\"_parent\"><img src=\"https://colab.research.google.com/assets/colab-badge.svg\" alt=\"Open In Colab\"/></a>"
      ]
    },
    {
      "cell_type": "code",
      "execution_count": null,
      "metadata": {
        "colab": {
          "base_uri": "https://localhost:8080/"
        },
        "id": "6P2NkvYNg9G6",
        "outputId": "0f3a1568-bc32-486f-a0ae-c653d965b35c"
      },
      "outputs": [
        {
          "output_type": "stream",
          "name": "stdout",
          "text": [
            "True\n"
          ]
        }
      ],
      "source": [
        "#217\n",
        "#Contains Duplicate\n",
        "class Solution(object):\n",
        "    def containsDuplicate(self, nums):\n",
        "        seen = set()\n",
        "        for num in nums:\n",
        "            if num in seen:\n",
        "                return True\n",
        "            seen.add(num)\n",
        "        return False\n",
        "solution = Solution()\n",
        "print(solution.containsDuplicate([1, 2, 2, 1]))\n",
        "#\n",
        "# class Solution {\n",
        "#     public boolean containsDuplicate(int[] nums) {\n",
        "#         for (int i = 0; i < nums.length; i++) {\n",
        "#             for (int k = i + 1; k < nums.length; k++) {\n",
        "#                 if (nums[i] == nums[k]) {\n",
        "#                     return true;\n",
        "#                 }\n",
        "#             }\n",
        "#         }\n",
        "#         return false;\n",
        "#     }\n",
        "\n",
        "#     public static void main(String[] args) {\n",
        "#         Solution sol = new Solution();\n",
        "#         int[] nums = {1, 2, 3, 1};\n",
        "#         System.out.println(sol.containsDuplicate(nums));  // Output: true\n",
        "#     }\n",
        "# }\n"
      ]
    },
    {
      "cell_type": "code",
      "source": [
        "#valid anagram problem solv:\n",
        "class solution:\n",
        "  def isanagram(self,s,t):\n",
        "    e=\n",
        "\n"
      ],
      "metadata": {
        "id": "iVZWpHVS66ub"
      },
      "execution_count": null,
      "outputs": []
    }
  ]
}