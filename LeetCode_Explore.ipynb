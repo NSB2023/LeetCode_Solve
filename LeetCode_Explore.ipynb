{
  "nbformat": 4,
  "nbformat_minor": 0,
  "metadata": {
    "colab": {
      "provenance": [],
      "authorship_tag": "ABX9TyNrd+5JB1kI29f/OkpONqqR",
      "include_colab_link": true
    },
    "kernelspec": {
      "name": "python3",
      "display_name": "Python 3"
    },
    "language_info": {
      "name": "python"
    }
  },
  "cells": [
    {
      "cell_type": "markdown",
      "metadata": {
        "id": "view-in-github",
        "colab_type": "text"
      },
      "source": [
        "<a href=\"https://colab.research.google.com/github/NSB2023/LeetCode_Solve/blob/main/LeetCode_Explore.ipynb\" target=\"_parent\"><img src=\"https://colab.research.google.com/assets/colab-badge.svg\" alt=\"Open In Colab\"/></a>"
      ]
    },
    {
      "cell_type": "code",
      "execution_count": 1,
      "metadata": {
        "colab": {
          "base_uri": "https://localhost:8080/"
        },
        "id": "6P2NkvYNg9G6",
        "outputId": "63959260-6acc-44ac-deaf-176834605145"
      },
      "outputs": [
        {
          "output_type": "stream",
          "name": "stdout",
          "text": [
            "True\n"
          ]
        }
      ],
      "source": [
        "#217\n",
        "'''\n",
        "Question:\n",
        "Given an integer array nums, return true if any value appears at least twice in\n",
        "the array, and return false if every element is distinct.\n",
        "'''\n",
        "\n",
        "class Solution(object):\n",
        "    def containsDuplicate(self, nums):\n",
        "        seen = set()\n",
        "        for num in nums:\n",
        "            if num in seen:\n",
        "                return True\n",
        "            seen.add(num)\n",
        "        return False\n",
        "solution = Solution()\n",
        "print(solution.containsDuplicate([1, 2, 2, 1]))"
      ]
    },
    {
      "cell_type": "code",
      "source": [
        "#valid anagram problem solv:\n",
        "class solution:\n",
        "  def isanagram(self,s,t):\n",
        "    e=\n",
        "\n"
      ],
      "metadata": {
        "id": "iVZWpHVS66ub"
      },
      "execution_count": null,
      "outputs": []
    }
  ]
}